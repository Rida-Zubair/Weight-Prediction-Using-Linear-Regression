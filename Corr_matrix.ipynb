{
 "cells": [
  {
   "cell_type": "code",
   "execution_count": 2,
   "id": "62fd893c-ca4f-4482-b904-2c03e206ad7f",
   "metadata": {},
   "outputs": [
    {
     "name": "stdout",
     "output_type": "stream",
     "text": [
      "                            Weight    Gender  Processed Food  \\\n",
      "Weight                    1.000000 -0.748660        0.757647   \n",
      "Gender                   -0.748660  1.000000       -0.686758   \n",
      "Processed Food            0.757647 -0.686758        1.000000   \n",
      "Medical History/Genetics  0.407527 -0.215918        0.271389   \n",
      "Exercise per Week         0.033830 -0.069895        0.091025   \n",
      "Sleep_Duration            0.114609 -0.050624        0.125487   \n",
      "Height_cm                 0.556596 -0.396035        0.477176   \n",
      "\n",
      "                          Medical History/Genetics  Exercise per Week  \\\n",
      "Weight                                    0.407527           0.033830   \n",
      "Gender                                   -0.215918          -0.069895   \n",
      "Processed Food                            0.271389           0.091025   \n",
      "Medical History/Genetics                  1.000000          -0.162526   \n",
      "Exercise per Week                        -0.162526           1.000000   \n",
      "Sleep_Duration                           -0.045644           0.007221   \n",
      "Height_cm                                 0.143390           0.058569   \n",
      "\n",
      "                          Sleep_Duration  Height_cm  \n",
      "Weight                          0.114609   0.556596  \n",
      "Gender                         -0.050624  -0.396035  \n",
      "Processed Food                  0.125487   0.477176  \n",
      "Medical History/Genetics       -0.045644   0.143390  \n",
      "Exercise per Week               0.007221   0.058569  \n",
      "Sleep_Duration                  1.000000   0.208949  \n",
      "Height_cm                       0.208949   1.000000  \n"
     ]
    }
   ],
   "source": [
    "import pandas as pd\n",
    "\n",
    "# Load the dataset\n",
    "file_path = 'processed_weight_final1.csv'\n",
    "data = pd.read_csv(file_path)\n",
    "\n",
    "# Select numerical columns for correlation analysis\n",
    "numerical_columns = ['Weight', 'Gender', 'Processed Food', 'Medical History/Genetics', \n",
    "                      'Exercise per Week', 'Sleep_Duration', 'Height_cm']\n",
    "\n",
    "# Drop rows with missing values and compute the correlation matrix\n",
    "correlation_matrix = data[numerical_columns].dropna().corr()\n",
    "\n",
    "# Display the correlation matrix\n",
    "print(correlation_matrix)\n"
   ]
  }
 ],
 "metadata": {
  "kernelspec": {
   "display_name": "Python 3 (ipykernel)",
   "language": "python",
   "name": "python3"
  },
  "language_info": {
   "codemirror_mode": {
    "name": "ipython",
    "version": 3
   },
   "file_extension": ".py",
   "mimetype": "text/x-python",
   "name": "python",
   "nbconvert_exporter": "python",
   "pygments_lexer": "ipython3",
   "version": "3.12.4"
  }
 },
 "nbformat": 4,
 "nbformat_minor": 5
}
